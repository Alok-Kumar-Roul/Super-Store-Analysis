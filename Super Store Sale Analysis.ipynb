{
 "cells": [
  {
   "cell_type": "code",
   "execution_count": 2,
   "id": "45dfd02a",
   "metadata": {},
   "outputs": [],
   "source": [
    "import numpy as np\n",
    "import pandas as pd\n",
    "import warnings\n",
    "warnings.filterwarnings(\"ignore\")\n",
    "import seaborn as sns\n",
    "import matplotlib.pyplot as plt"
   ]
  },
  {
   "cell_type": "code",
   "execution_count": 3,
   "id": "cedc648a",
   "metadata": {},
   "outputs": [
    {
     "data": {
      "text/html": [
       "<div>\n",
       "<style scoped>\n",
       "    .dataframe tbody tr th:only-of-type {\n",
       "        vertical-align: middle;\n",
       "    }\n",
       "\n",
       "    .dataframe tbody tr th {\n",
       "        vertical-align: top;\n",
       "    }\n",
       "\n",
       "    .dataframe thead th {\n",
       "        text-align: right;\n",
       "    }\n",
       "</style>\n",
       "<table border=\"1\" class=\"dataframe\">\n",
       "  <thead>\n",
       "    <tr style=\"text-align: right;\">\n",
       "      <th></th>\n",
       "      <th>Row ID+O6G3A1:R6</th>\n",
       "      <th>Order ID</th>\n",
       "      <th>Order Date</th>\n",
       "      <th>Ship Date</th>\n",
       "      <th>Ship Mode</th>\n",
       "      <th>Customer ID</th>\n",
       "      <th>Customer Name</th>\n",
       "      <th>Segment</th>\n",
       "      <th>Country</th>\n",
       "      <th>City</th>\n",
       "      <th>...</th>\n",
       "      <th>Category</th>\n",
       "      <th>Sub-Category</th>\n",
       "      <th>Product Name</th>\n",
       "      <th>Sales</th>\n",
       "      <th>Quantity</th>\n",
       "      <th>Profit</th>\n",
       "      <th>Returns</th>\n",
       "      <th>Payment Mode</th>\n",
       "      <th>ind1</th>\n",
       "      <th>ind2</th>\n",
       "    </tr>\n",
       "  </thead>\n",
       "  <tbody>\n",
       "    <tr>\n",
       "      <th>0</th>\n",
       "      <td>4918</td>\n",
       "      <td>CA-2019-160304</td>\n",
       "      <td>01-01-2019</td>\n",
       "      <td>07-01-2019</td>\n",
       "      <td>Standard Class</td>\n",
       "      <td>BM-11575</td>\n",
       "      <td>Brendan Murry</td>\n",
       "      <td>Corporate</td>\n",
       "      <td>United States</td>\n",
       "      <td>Gaithersburg</td>\n",
       "      <td>...</td>\n",
       "      <td>Furniture</td>\n",
       "      <td>Bookcases</td>\n",
       "      <td>Bush Westfield Collection Bookcases, Medium Ch...</td>\n",
       "      <td>73.94</td>\n",
       "      <td>1</td>\n",
       "      <td>28.2668</td>\n",
       "      <td>NaN</td>\n",
       "      <td>Online</td>\n",
       "      <td>NaN</td>\n",
       "      <td>NaN</td>\n",
       "    </tr>\n",
       "    <tr>\n",
       "      <th>1</th>\n",
       "      <td>4919</td>\n",
       "      <td>CA-2019-160304</td>\n",
       "      <td>02-01-2019</td>\n",
       "      <td>07-01-2019</td>\n",
       "      <td>Standard Class</td>\n",
       "      <td>BM-11575</td>\n",
       "      <td>Brendan Murry</td>\n",
       "      <td>Corporate</td>\n",
       "      <td>United States</td>\n",
       "      <td>Gaithersburg</td>\n",
       "      <td>...</td>\n",
       "      <td>Furniture</td>\n",
       "      <td>Bookcases</td>\n",
       "      <td>Bush Westfield Collection Bookcases, Medium Ch...</td>\n",
       "      <td>173.94</td>\n",
       "      <td>3</td>\n",
       "      <td>38.2668</td>\n",
       "      <td>NaN</td>\n",
       "      <td>Online</td>\n",
       "      <td>NaN</td>\n",
       "      <td>NaN</td>\n",
       "    </tr>\n",
       "    <tr>\n",
       "      <th>2</th>\n",
       "      <td>4920</td>\n",
       "      <td>CA-2019-160304</td>\n",
       "      <td>02-01-2019</td>\n",
       "      <td>07-01-2019</td>\n",
       "      <td>Standard Class</td>\n",
       "      <td>BM-11575</td>\n",
       "      <td>Brendan Murry</td>\n",
       "      <td>Corporate</td>\n",
       "      <td>United States</td>\n",
       "      <td>Gaithersburg</td>\n",
       "      <td>...</td>\n",
       "      <td>Technology</td>\n",
       "      <td>Phones</td>\n",
       "      <td>GE 30522EE2</td>\n",
       "      <td>231.98</td>\n",
       "      <td>2</td>\n",
       "      <td>67.2742</td>\n",
       "      <td>NaN</td>\n",
       "      <td>Cards</td>\n",
       "      <td>NaN</td>\n",
       "      <td>NaN</td>\n",
       "    </tr>\n",
       "    <tr>\n",
       "      <th>3</th>\n",
       "      <td>3074</td>\n",
       "      <td>CA-2019-125206</td>\n",
       "      <td>03-01-2019</td>\n",
       "      <td>05-01-2019</td>\n",
       "      <td>First Class</td>\n",
       "      <td>LR-16915</td>\n",
       "      <td>Lena Radford</td>\n",
       "      <td>Consumer</td>\n",
       "      <td>United States</td>\n",
       "      <td>Los Angeles</td>\n",
       "      <td>...</td>\n",
       "      <td>Office Supplies</td>\n",
       "      <td>Storage</td>\n",
       "      <td>Recycled Steel Personal File for Hanging File ...</td>\n",
       "      <td>114.46</td>\n",
       "      <td>2</td>\n",
       "      <td>28.6150</td>\n",
       "      <td>NaN</td>\n",
       "      <td>Online</td>\n",
       "      <td>NaN</td>\n",
       "      <td>NaN</td>\n",
       "    </tr>\n",
       "    <tr>\n",
       "      <th>4</th>\n",
       "      <td>8604</td>\n",
       "      <td>US-2019-116365</td>\n",
       "      <td>03-01-2019</td>\n",
       "      <td>08-01-2019</td>\n",
       "      <td>Standard Class</td>\n",
       "      <td>CA-12310</td>\n",
       "      <td>Christine Abelman</td>\n",
       "      <td>Corporate</td>\n",
       "      <td>United States</td>\n",
       "      <td>San Antonio</td>\n",
       "      <td>...</td>\n",
       "      <td>Technology</td>\n",
       "      <td>Accessories</td>\n",
       "      <td>Imation Clip USB flash drive - 8 GB</td>\n",
       "      <td>30.08</td>\n",
       "      <td>2</td>\n",
       "      <td>-5.2640</td>\n",
       "      <td>NaN</td>\n",
       "      <td>Online</td>\n",
       "      <td>NaN</td>\n",
       "      <td>NaN</td>\n",
       "    </tr>\n",
       "  </tbody>\n",
       "</table>\n",
       "<p>5 rows × 23 columns</p>\n",
       "</div>"
      ],
      "text/plain": [
       "   Row ID+O6G3A1:R6        Order ID  Order Date   Ship Date       Ship Mode  \\\n",
       "0              4918  CA-2019-160304  01-01-2019  07-01-2019  Standard Class   \n",
       "1              4919  CA-2019-160304  02-01-2019  07-01-2019  Standard Class   \n",
       "2              4920  CA-2019-160304  02-01-2019  07-01-2019  Standard Class   \n",
       "3              3074  CA-2019-125206  03-01-2019  05-01-2019     First Class   \n",
       "4              8604  US-2019-116365  03-01-2019  08-01-2019  Standard Class   \n",
       "\n",
       "  Customer ID      Customer Name    Segment        Country          City  ...  \\\n",
       "0    BM-11575      Brendan Murry  Corporate  United States  Gaithersburg  ...   \n",
       "1    BM-11575      Brendan Murry  Corporate  United States  Gaithersburg  ...   \n",
       "2    BM-11575      Brendan Murry  Corporate  United States  Gaithersburg  ...   \n",
       "3    LR-16915       Lena Radford   Consumer  United States   Los Angeles  ...   \n",
       "4    CA-12310  Christine Abelman  Corporate  United States   San Antonio  ...   \n",
       "\n",
       "          Category Sub-Category  \\\n",
       "0        Furniture    Bookcases   \n",
       "1        Furniture    Bookcases   \n",
       "2       Technology       Phones   \n",
       "3  Office Supplies      Storage   \n",
       "4       Technology  Accessories   \n",
       "\n",
       "                                        Product Name   Sales Quantity  \\\n",
       "0  Bush Westfield Collection Bookcases, Medium Ch...   73.94        1   \n",
       "1  Bush Westfield Collection Bookcases, Medium Ch...  173.94        3   \n",
       "2                                        GE 30522EE2  231.98        2   \n",
       "3  Recycled Steel Personal File for Hanging File ...  114.46        2   \n",
       "4                Imation Clip USB flash drive - 8 GB   30.08        2   \n",
       "\n",
       "    Profit  Returns  Payment Mode  ind1  ind2  \n",
       "0  28.2668      NaN        Online   NaN   NaN  \n",
       "1  38.2668      NaN        Online   NaN   NaN  \n",
       "2  67.2742      NaN         Cards   NaN   NaN  \n",
       "3  28.6150      NaN        Online   NaN   NaN  \n",
       "4  -5.2640      NaN        Online   NaN   NaN  \n",
       "\n",
       "[5 rows x 23 columns]"
      ]
     },
     "execution_count": 3,
     "metadata": {},
     "output_type": "execute_result"
    }
   ],
   "source": [
    "df = pd.read_csv(\"C:\\\\Users\\\\alokk\\\\1.1 Power BI\\\\Super Store\\\\SuperStore_Sales_Dataset.csv\")\n",
    "df.head()"
   ]
  },
  {
   "cell_type": "code",
   "execution_count": 4,
   "id": "8c18f030",
   "metadata": {},
   "outputs": [
    {
     "data": {
      "text/plain": [
       "(5901, 23)"
      ]
     },
     "execution_count": 4,
     "metadata": {},
     "output_type": "execute_result"
    }
   ],
   "source": [
    "df.shape   "
   ]
  },
  {
   "cell_type": "code",
   "execution_count": 5,
   "id": "63213ec4",
   "metadata": {},
   "outputs": [
    {
     "name": "stdout",
     "output_type": "stream",
     "text": [
      "<class 'pandas.core.frame.DataFrame'>\n",
      "RangeIndex: 5901 entries, 0 to 5900\n",
      "Data columns (total 23 columns):\n",
      " #   Column            Non-Null Count  Dtype  \n",
      "---  ------            --------------  -----  \n",
      " 0   Row ID+O6G3A1:R6  5901 non-null   int64  \n",
      " 1   Order ID          5901 non-null   object \n",
      " 2   Order Date        5901 non-null   object \n",
      " 3   Ship Date         5901 non-null   object \n",
      " 4   Ship Mode         5901 non-null   object \n",
      " 5   Customer ID       5901 non-null   object \n",
      " 6   Customer Name     5901 non-null   object \n",
      " 7   Segment           5901 non-null   object \n",
      " 8   Country           5901 non-null   object \n",
      " 9   City              5901 non-null   object \n",
      " 10  State             5901 non-null   object \n",
      " 11  Region            5901 non-null   object \n",
      " 12  Product ID        5901 non-null   object \n",
      " 13  Category          5901 non-null   object \n",
      " 14  Sub-Category      5901 non-null   object \n",
      " 15  Product Name      5901 non-null   object \n",
      " 16  Sales             5901 non-null   float64\n",
      " 17  Quantity          5901 non-null   int64  \n",
      " 18  Profit            5901 non-null   float64\n",
      " 19  Returns           287 non-null    float64\n",
      " 20  Payment Mode      5901 non-null   object \n",
      " 21  ind1              0 non-null      float64\n",
      " 22  ind2              0 non-null      float64\n",
      "dtypes: float64(5), int64(2), object(16)\n",
      "memory usage: 1.0+ MB\n"
     ]
    }
   ],
   "source": [
    "df.info()"
   ]
  },
  {
   "cell_type": "code",
   "execution_count": 6,
   "id": "61644cce",
   "metadata": {},
   "outputs": [
    {
     "data": {
      "text/plain": [
       "Index(['Order ID', 'Order Date', 'Ship Date', 'Ship Mode', 'Customer ID',\n",
       "       'Customer Name', 'Segment', 'Country', 'City', 'State', 'Region',\n",
       "       'Product ID', 'Category', 'Sub-Category', 'Product Name',\n",
       "       'Payment Mode'],\n",
       "      dtype='object')"
      ]
     },
     "execution_count": 6,
     "metadata": {},
     "output_type": "execute_result"
    }
   ],
   "source": [
    "categorical_columns = df.select_dtypes(\"object\").columns\n",
    "categorical_columns"
   ]
  },
  {
   "cell_type": "code",
   "execution_count": 7,
   "id": "0f54e9b1",
   "metadata": {},
   "outputs": [
    {
     "data": {
      "text/plain": [
       "Index(['Order ID', 'Order Date', 'Ship Date', 'Ship Mode', 'Customer ID',\n",
       "       'Customer Name', 'Segment', 'Country', 'City', 'State', 'Region',\n",
       "       'Product ID', 'Category', 'Sub-Category', 'Product Name',\n",
       "       'Payment Mode'],\n",
       "      dtype='object')"
      ]
     },
     "execution_count": 7,
     "metadata": {},
     "output_type": "execute_result"
    }
   ],
   "source": [
    "categorical_columns = df.select_dtypes(\"object\").columns\n",
    "categorical_columns"
   ]
  },
  {
   "cell_type": "code",
   "execution_count": 8,
   "id": "36b6ee55",
   "metadata": {},
   "outputs": [
    {
     "data": {
      "text/plain": [
       "(5901, 7)"
      ]
     },
     "execution_count": 8,
     "metadata": {},
     "output_type": "execute_result"
    }
   ],
   "source": [
    "numerical_columns = df.select_dtypes([\"int\",\"float64\"])\n",
    "numerical_columns.shape"
   ]
  },
  {
   "cell_type": "code",
   "execution_count": 9,
   "id": "86c67dea",
   "metadata": {},
   "outputs": [
    {
     "data": {
      "text/plain": [
       "Index(['Row ID+O6G3A1:R6', 'Sales', 'Quantity', 'Profit', 'Returns', 'ind1',\n",
       "       'ind2'],\n",
       "      dtype='object')"
      ]
     },
     "execution_count": 9,
     "metadata": {},
     "output_type": "execute_result"
    }
   ],
   "source": [
    "numerical_columns = df.select_dtypes([\"int\",\"float64\"]).columns\n",
    "numerical_columns"
   ]
  },
  {
   "cell_type": "code",
   "execution_count": 18,
   "id": "2644df05",
   "metadata": {},
   "outputs": [
    {
     "data": {
      "text/plain": [
       "Row ID+O6G3A1:R6    0.0\n",
       "Order ID            0.0\n",
       "Order Date          0.0\n",
       "Ship Date           0.0\n",
       "Ship Mode           0.0\n",
       "Customer ID         0.0\n",
       "Customer Name       0.0\n",
       "Segment             0.0\n",
       "Country             0.0\n",
       "City                0.0\n",
       "State               0.0\n",
       "Region              0.0\n",
       "Product ID          0.0\n",
       "Category            0.0\n",
       "Sub-Category        0.0\n",
       "Product Name        0.0\n",
       "Sales               0.0\n",
       "Quantity            0.0\n",
       "Profit              0.0\n",
       "Payment Mode        0.0\n",
       "Order Month         0.0\n",
       "Order Quarter       0.0\n",
       "Order Year          0.0\n",
       "Delivery Time       0.0\n",
       "dtype: float64"
      ]
     },
     "execution_count": 18,
     "metadata": {},
     "output_type": "execute_result"
    }
   ],
   "source": [
    "round(df.isnull().sum() / len(df) * 100, 2)"
   ]
  },
  {
   "cell_type": "code",
   "execution_count": 11,
   "id": "c7b1a475",
   "metadata": {},
   "outputs": [],
   "source": [
    "# drop Ereilevent Columns\n",
    "df.drop([\"ind1\",\"ind2\",\"Returns\"],axis=1,inplace=True)"
   ]
  },
  {
   "cell_type": "code",
   "execution_count": 12,
   "id": "8c813983",
   "metadata": {},
   "outputs": [],
   "source": [
    "df.drop_duplicates(inplace=True)"
   ]
  },
  {
   "cell_type": "code",
   "execution_count": 13,
   "id": "19e5dfc3",
   "metadata": {},
   "outputs": [],
   "source": [
    "df[\"Order Month\"] = pd.to_datetime(df[\"Order Date\"]).dt.strftime(\"%B\")"
   ]
  },
  {
   "cell_type": "code",
   "execution_count": 14,
   "id": "79476829",
   "metadata": {},
   "outputs": [],
   "source": [
    "df[\"Order Quarter\"] = pd.to_datetime(df[\"Order Date\"]).dt.quarter.map({1: \"Qtr1\", 2: \"Qtr2\", 3: \"Qtr3\", 4: \"Qtr4\"})\n"
   ]
  },
  {
   "cell_type": "code",
   "execution_count": 15,
   "id": "aa5b9f51",
   "metadata": {},
   "outputs": [],
   "source": [
    "df[\"Order Year\"] = pd.to_datetime(df[\"Order Date\"]).dt.year"
   ]
  },
  {
   "cell_type": "code",
   "execution_count": 16,
   "id": "1f164693",
   "metadata": {},
   "outputs": [
    {
     "name": "stdout",
     "output_type": "stream",
     "text": [
      "0       6\n",
      "1       5\n",
      "2       5\n",
      "3       2\n",
      "4       5\n",
      "       ..\n",
      "5896    4\n",
      "5897    4\n",
      "5898    4\n",
      "5899    4\n",
      "5900    4\n",
      "Name: Delivery Time, Length: 5901, dtype: int64\n"
     ]
    }
   ],
   "source": [
    "# Convert date columns to datetime format\n",
    "df[\"Order Date\"] = pd.to_datetime(df[\"Order Date\"], format=\"%d-%m-%Y\")\n",
    "df[\"Ship Date\"] = pd.to_datetime(df[\"Ship Date\"], format=\"%d-%m-%Y\")\n",
    "\n",
    "# Calculate the difference in days\n",
    "df[\"Delivery Time\"] = (df[\"Ship Date\"] - df[\"Order Date\"]).dt.days\n",
    "\n",
    "# Print the result\n",
    "print(df[\"Delivery Time\"])"
   ]
  },
  {
   "cell_type": "code",
   "execution_count": 17,
   "id": "4901ed8d",
   "metadata": {},
   "outputs": [
    {
     "data": {
      "text/html": [
       "<div>\n",
       "<style scoped>\n",
       "    .dataframe tbody tr th:only-of-type {\n",
       "        vertical-align: middle;\n",
       "    }\n",
       "\n",
       "    .dataframe tbody tr th {\n",
       "        vertical-align: top;\n",
       "    }\n",
       "\n",
       "    .dataframe thead th {\n",
       "        text-align: right;\n",
       "    }\n",
       "</style>\n",
       "<table border=\"1\" class=\"dataframe\">\n",
       "  <thead>\n",
       "    <tr style=\"text-align: right;\">\n",
       "      <th></th>\n",
       "      <th>Row ID+O6G3A1:R6</th>\n",
       "      <th>Order ID</th>\n",
       "      <th>Order Date</th>\n",
       "      <th>Ship Date</th>\n",
       "      <th>Ship Mode</th>\n",
       "      <th>Customer ID</th>\n",
       "      <th>Customer Name</th>\n",
       "      <th>Segment</th>\n",
       "      <th>Country</th>\n",
       "      <th>City</th>\n",
       "      <th>...</th>\n",
       "      <th>Sub-Category</th>\n",
       "      <th>Product Name</th>\n",
       "      <th>Sales</th>\n",
       "      <th>Quantity</th>\n",
       "      <th>Profit</th>\n",
       "      <th>Payment Mode</th>\n",
       "      <th>Order Month</th>\n",
       "      <th>Order Quarter</th>\n",
       "      <th>Order Year</th>\n",
       "      <th>Delivery Time</th>\n",
       "    </tr>\n",
       "  </thead>\n",
       "  <tbody>\n",
       "    <tr>\n",
       "      <th>0</th>\n",
       "      <td>4918</td>\n",
       "      <td>CA-2019-160304</td>\n",
       "      <td>2019-01-01</td>\n",
       "      <td>2019-01-07</td>\n",
       "      <td>Standard Class</td>\n",
       "      <td>BM-11575</td>\n",
       "      <td>Brendan Murry</td>\n",
       "      <td>Corporate</td>\n",
       "      <td>United States</td>\n",
       "      <td>Gaithersburg</td>\n",
       "      <td>...</td>\n",
       "      <td>Bookcases</td>\n",
       "      <td>Bush Westfield Collection Bookcases, Medium Ch...</td>\n",
       "      <td>73.94</td>\n",
       "      <td>1</td>\n",
       "      <td>28.2668</td>\n",
       "      <td>Online</td>\n",
       "      <td>January</td>\n",
       "      <td>Qtr1</td>\n",
       "      <td>2019</td>\n",
       "      <td>6</td>\n",
       "    </tr>\n",
       "    <tr>\n",
       "      <th>1</th>\n",
       "      <td>4919</td>\n",
       "      <td>CA-2019-160304</td>\n",
       "      <td>2019-01-02</td>\n",
       "      <td>2019-01-07</td>\n",
       "      <td>Standard Class</td>\n",
       "      <td>BM-11575</td>\n",
       "      <td>Brendan Murry</td>\n",
       "      <td>Corporate</td>\n",
       "      <td>United States</td>\n",
       "      <td>Gaithersburg</td>\n",
       "      <td>...</td>\n",
       "      <td>Bookcases</td>\n",
       "      <td>Bush Westfield Collection Bookcases, Medium Ch...</td>\n",
       "      <td>173.94</td>\n",
       "      <td>3</td>\n",
       "      <td>38.2668</td>\n",
       "      <td>Online</td>\n",
       "      <td>February</td>\n",
       "      <td>Qtr1</td>\n",
       "      <td>2019</td>\n",
       "      <td>5</td>\n",
       "    </tr>\n",
       "    <tr>\n",
       "      <th>2</th>\n",
       "      <td>4920</td>\n",
       "      <td>CA-2019-160304</td>\n",
       "      <td>2019-01-02</td>\n",
       "      <td>2019-01-07</td>\n",
       "      <td>Standard Class</td>\n",
       "      <td>BM-11575</td>\n",
       "      <td>Brendan Murry</td>\n",
       "      <td>Corporate</td>\n",
       "      <td>United States</td>\n",
       "      <td>Gaithersburg</td>\n",
       "      <td>...</td>\n",
       "      <td>Phones</td>\n",
       "      <td>GE 30522EE2</td>\n",
       "      <td>231.98</td>\n",
       "      <td>2</td>\n",
       "      <td>67.2742</td>\n",
       "      <td>Cards</td>\n",
       "      <td>February</td>\n",
       "      <td>Qtr1</td>\n",
       "      <td>2019</td>\n",
       "      <td>5</td>\n",
       "    </tr>\n",
       "    <tr>\n",
       "      <th>3</th>\n",
       "      <td>3074</td>\n",
       "      <td>CA-2019-125206</td>\n",
       "      <td>2019-01-03</td>\n",
       "      <td>2019-01-05</td>\n",
       "      <td>First Class</td>\n",
       "      <td>LR-16915</td>\n",
       "      <td>Lena Radford</td>\n",
       "      <td>Consumer</td>\n",
       "      <td>United States</td>\n",
       "      <td>Los Angeles</td>\n",
       "      <td>...</td>\n",
       "      <td>Storage</td>\n",
       "      <td>Recycled Steel Personal File for Hanging File ...</td>\n",
       "      <td>114.46</td>\n",
       "      <td>2</td>\n",
       "      <td>28.6150</td>\n",
       "      <td>Online</td>\n",
       "      <td>March</td>\n",
       "      <td>Qtr1</td>\n",
       "      <td>2019</td>\n",
       "      <td>2</td>\n",
       "    </tr>\n",
       "    <tr>\n",
       "      <th>4</th>\n",
       "      <td>8604</td>\n",
       "      <td>US-2019-116365</td>\n",
       "      <td>2019-01-03</td>\n",
       "      <td>2019-01-08</td>\n",
       "      <td>Standard Class</td>\n",
       "      <td>CA-12310</td>\n",
       "      <td>Christine Abelman</td>\n",
       "      <td>Corporate</td>\n",
       "      <td>United States</td>\n",
       "      <td>San Antonio</td>\n",
       "      <td>...</td>\n",
       "      <td>Accessories</td>\n",
       "      <td>Imation Clip USB flash drive - 8 GB</td>\n",
       "      <td>30.08</td>\n",
       "      <td>2</td>\n",
       "      <td>-5.2640</td>\n",
       "      <td>Online</td>\n",
       "      <td>March</td>\n",
       "      <td>Qtr1</td>\n",
       "      <td>2019</td>\n",
       "      <td>5</td>\n",
       "    </tr>\n",
       "  </tbody>\n",
       "</table>\n",
       "<p>5 rows × 24 columns</p>\n",
       "</div>"
      ],
      "text/plain": [
       "   Row ID+O6G3A1:R6        Order ID Order Date  Ship Date       Ship Mode  \\\n",
       "0              4918  CA-2019-160304 2019-01-01 2019-01-07  Standard Class   \n",
       "1              4919  CA-2019-160304 2019-01-02 2019-01-07  Standard Class   \n",
       "2              4920  CA-2019-160304 2019-01-02 2019-01-07  Standard Class   \n",
       "3              3074  CA-2019-125206 2019-01-03 2019-01-05     First Class   \n",
       "4              8604  US-2019-116365 2019-01-03 2019-01-08  Standard Class   \n",
       "\n",
       "  Customer ID      Customer Name    Segment        Country          City  ...  \\\n",
       "0    BM-11575      Brendan Murry  Corporate  United States  Gaithersburg  ...   \n",
       "1    BM-11575      Brendan Murry  Corporate  United States  Gaithersburg  ...   \n",
       "2    BM-11575      Brendan Murry  Corporate  United States  Gaithersburg  ...   \n",
       "3    LR-16915       Lena Radford   Consumer  United States   Los Angeles  ...   \n",
       "4    CA-12310  Christine Abelman  Corporate  United States   San Antonio  ...   \n",
       "\n",
       "  Sub-Category                                       Product Name   Sales  \\\n",
       "0    Bookcases  Bush Westfield Collection Bookcases, Medium Ch...   73.94   \n",
       "1    Bookcases  Bush Westfield Collection Bookcases, Medium Ch...  173.94   \n",
       "2       Phones                                        GE 30522EE2  231.98   \n",
       "3      Storage  Recycled Steel Personal File for Hanging File ...  114.46   \n",
       "4  Accessories                Imation Clip USB flash drive - 8 GB   30.08   \n",
       "\n",
       "  Quantity   Profit Payment Mode  Order Month  Order Quarter  Order Year  \\\n",
       "0        1  28.2668       Online      January           Qtr1        2019   \n",
       "1        3  38.2668       Online     February           Qtr1        2019   \n",
       "2        2  67.2742        Cards     February           Qtr1        2019   \n",
       "3        2  28.6150       Online        March           Qtr1        2019   \n",
       "4        2  -5.2640       Online        March           Qtr1        2019   \n",
       "\n",
       "  Delivery Time  \n",
       "0             6  \n",
       "1             5  \n",
       "2             5  \n",
       "3             2  \n",
       "4             5  \n",
       "\n",
       "[5 rows x 24 columns]"
      ]
     },
     "execution_count": 17,
     "metadata": {},
     "output_type": "execute_result"
    }
   ],
   "source": [
    "df.head(5)"
   ]
  },
  {
   "cell_type": "code",
   "execution_count": 219,
   "id": "671a5fe1",
   "metadata": {},
   "outputs": [
    {
     "data": {
      "text/plain": [
       "Index(['Order ID', 'Order Date', 'Ship Date', 'Ship Mode', 'Customer ID',\n",
       "       'Customer Name', 'Segment', 'Country', 'City', 'State', 'Region',\n",
       "       'Product ID', 'Category', 'Sub-Category', 'Product Name',\n",
       "       'Payment Mode', 'Order Month', 'Order Quarter'],\n",
       "      dtype='object')"
      ]
     },
     "execution_count": 219,
     "metadata": {},
     "output_type": "execute_result"
    }
   ],
   "source": [
    "cont_cl = df.select_dtypes(\"object\").columns\n",
    "cont_cl"
   ]
  },
  {
   "cell_type": "markdown",
   "id": "e976ab6e",
   "metadata": {},
   "source": [
    "# Univeriate_analysis"
   ]
  },
  {
   "cell_type": "markdown",
   "id": "ccaf7b2c",
   "metadata": {},
   "source": [
    "# categorical columns"
   ]
  },
  {
   "cell_type": "code",
   "execution_count": 231,
   "id": "1cfb6e61",
   "metadata": {},
   "outputs": [
    {
     "name": "stdout",
     "output_type": "stream",
     "text": [
      "<====Order ID====>\n",
      "CA-2020-100111    14\n",
      "CA-2020-157987    12\n",
      "CA-2019-165330    11\n",
      "US-2019-108504    11\n",
      "CA-2019-105732    10\n",
      "                  ..\n",
      "CA-2020-161592     1\n",
      "CA-2020-107265     1\n",
      "CA-2020-140536     1\n",
      "CA-2020-109211     1\n",
      "CA-2020-151450     1\n",
      "Name: Order ID, Length: 3003, dtype: int64\n",
      "<====Order Date====>\n",
      "05-09-2019    38\n",
      "02-09-2020    36\n",
      "10-11-2019    35\n",
      "01-12-2020    34\n",
      "02-12-2020    34\n",
      "              ..\n",
      "28-09-2019     1\n",
      "31-08-2019     1\n",
      "20-08-2019     1\n",
      "17-08-2019     1\n",
      "31-12-2020     1\n",
      "Name: Order Date, Length: 643, dtype: int64\n",
      "<====Ship Date====>\n",
      "26-09-2020    34\n",
      "21-11-2020    32\n",
      "06-12-2020    32\n",
      "06-09-2020    30\n",
      "15-09-2020    30\n",
      "              ..\n",
      "02-03-2019     1\n",
      "21-01-2020     1\n",
      "28-02-2019     1\n",
      "04-02-2020     1\n",
      "22-06-2020     1\n",
      "Name: Ship Date, Length: 690, dtype: int64\n",
      "<====Ship Mode====>\n",
      "Standard Class    3451\n",
      "Second Class      1147\n",
      "First Class        959\n",
      "Same Day           344\n",
      "Name: Ship Mode, dtype: int64\n",
      "<====Customer ID====>\n",
      "EP-13915    27\n",
      "SV-20365    25\n",
      "PP-18955    25\n",
      "EH-13765    25\n",
      "PK-19075    24\n",
      "            ..\n",
      "SS-20515     1\n",
      "JR-15700     1\n",
      "JR-15670     1\n",
      "RK-19300     1\n",
      "ME-18010     1\n",
      "Name: Customer ID, Length: 773, dtype: int64\n",
      "<====Customer Name====>\n",
      "Emily Phan          27\n",
      "Seth Vernon         25\n",
      "Paul Prost          25\n",
      "Edward Hooks        25\n",
      "Pete Kriz           24\n",
      "                    ..\n",
      "Shirley Schmidt      1\n",
      "Jocasta Rupert       1\n",
      "Jim Radford          1\n",
      "Ralph Kennedy        1\n",
      "Michelle Ellison     1\n",
      "Name: Customer Name, Length: 773, dtype: int64\n",
      "<====Segment====>\n",
      "Consumer       2997\n",
      "Corporate      1774\n",
      "Home Office    1130\n",
      "Name: Segment, dtype: int64\n",
      "<====Country====>\n",
      "United States    5901\n",
      "Name: Country, dtype: int64\n",
      "<====City====>\n",
      "New York City    563\n",
      "Los Angeles      430\n",
      "Philadelphia     310\n",
      "San Francisco    304\n",
      "Seattle          282\n",
      "                ... \n",
      "Frankfort          1\n",
      "Des Plaines        1\n",
      "Lehi               1\n",
      "Dearborn           1\n",
      "Danbury            1\n",
      "Name: City, Length: 452, dtype: int64\n",
      "<====State====>\n",
      "California              1189\n",
      "New York                 672\n",
      "Texas                    565\n",
      "Washington               337\n",
      "Pennsylvania             335\n",
      "Illinois                 293\n",
      "Ohio                     293\n",
      "Florida                  212\n",
      "North Carolina           159\n",
      "Michigan                 138\n",
      "Tennessee                120\n",
      "Georgia                  115\n",
      "Colorado                 114\n",
      "Arizona                  113\n",
      "Virginia                 104\n",
      "Indiana                   96\n",
      "New Jersey                92\n",
      "Wisconsin                 77\n",
      "Kentucky                  73\n",
      "Oregon                    65\n",
      "Massachusetts             63\n",
      "Maryland                  63\n",
      "Connecticut               56\n",
      "Oklahoma                  49\n",
      "Minnesota                 46\n",
      "Delaware                  43\n",
      "Missouri                  40\n",
      "Arkansas                  39\n",
      "Mississippi               36\n",
      "Rhode Island              36\n",
      "Alabama                   35\n",
      "New Mexico                26\n",
      "Nebraska                  25\n",
      "Iowa                      24\n",
      "Utah                      23\n",
      "Louisiana                 19\n",
      "South Carolina            19\n",
      "Nevada                    16\n",
      "Kansas                    13\n",
      "New Hampshire             13\n",
      "Idaho                     12\n",
      "Vermont                    9\n",
      "South Dakota               8\n",
      "District of Columbia       7\n",
      "North Dakota               7\n",
      "Montana                    5\n",
      "West Virginia              4\n",
      "Maine                      2\n",
      "Wyoming                    1\n",
      "Name: State, dtype: int64\n",
      "<====Region====>\n",
      "West       1901\n",
      "East       1688\n",
      "Central    1381\n",
      "South       931\n",
      "Name: Region, dtype: int64\n",
      "<====Product ID====>\n",
      "TEC-AC-10003832    15\n",
      "OFF-PA-10001970    13\n",
      "FUR-TA-10001095    12\n",
      "FUR-FU-10004864    12\n",
      "FUR-CH-10003774    11\n",
      "                   ..\n",
      "FUR-BO-10001567     1\n",
      "OFF-PA-10000210     1\n",
      "OFF-PA-10002365     1\n",
      "OFF-PA-10001826     1\n",
      "OFF-FA-10000089     1\n",
      "Name: Product ID, Length: 1755, dtype: int64\n",
      "<====Category====>\n",
      "Office Supplies    3569\n",
      "Furniture          1249\n",
      "Technology         1083\n",
      "Name: Category, dtype: int64\n",
      "<====Sub-Category====>\n",
      "Binders        915\n",
      "Paper          825\n",
      "Furnishings    573\n",
      "Phones         519\n",
      "Storage        498\n",
      "Art            465\n",
      "Accessories    461\n",
      "Chairs         355\n",
      "Appliances     279\n",
      "Labels         211\n",
      "Tables         190\n",
      "Envelopes      133\n",
      "Bookcases      131\n",
      "Fasteners      124\n",
      "Supplies       119\n",
      "Machines        65\n",
      "Copiers         38\n",
      "Name: Sub-Category, dtype: int64\n",
      "<====Product Name====>\n",
      "Easy-staple paper                               27\n",
      "Staples                                         24\n",
      "Staple envelope                                 22\n",
      "Staples in misc. colors                         13\n",
      "Chromcraft Round Conference Tables              12\n",
      "                                                ..\n",
      "Sony 8GB Class 10 Micro SDHC R40 Memory Card     1\n",
      "Letter Slitter                                   1\n",
      "Avery 479                                        1\n",
      "OIC Thumb-Tacks                                  1\n",
      "Acco Glide Clips                                 1\n",
      "Name: Product Name, Length: 1742, dtype: int64\n",
      "<====Payment Mode====>\n",
      "COD       2453\n",
      "Online    2164\n",
      "Cards     1284\n",
      "Name: Payment Mode, dtype: int64\n",
      "<====Order Month====>\n",
      "November     668\n",
      "September    621\n",
      "December     590\n",
      "October      508\n",
      "May          501\n",
      "March        497\n",
      "August       488\n",
      "July         452\n",
      "June         418\n",
      "April        417\n",
      "January      381\n",
      "February     360\n",
      "Name: Order Month, dtype: int64\n",
      "<====Order Quarter====>\n",
      "Qtr4    1766\n",
      "Qtr3    1561\n",
      "Qtr2    1336\n",
      "Qtr1    1238\n",
      "Name: Order Quarter, dtype: int64\n"
     ]
    }
   ],
   "source": [
    "cont_cl = df.select_dtypes(\"object\").columns\n",
    "\n",
    "for j in cont_cl:\n",
    "    print(f\"<===={j}====>\")\n",
    "    print(df[j].value_counts())"
   ]
  },
  {
   "cell_type": "code",
   "execution_count": 234,
   "id": "5561a1e2",
   "metadata": {
    "scrolled": true
   },
   "outputs": [
    {
     "name": "stdout",
     "output_type": "stream",
     "text": [
      "<======Segment======>\n"
     ]
    },
    {
     "data": {
      "image/png": "[encoded data removed]",
      "text/plain": [
       "<Figure size 640x480 with 1 Axes>"
      ]
     },
     "metadata": {},
     "output_type": "display_data"
    },
    {
     "name": "stdout",
     "output_type": "stream",
     "text": [
      "<======Ship Mode======>\n"
     ]
    },
    {
     "data": {
      "image/png": "[encoded data removed]",
      "text/plain": [
       "<Figure size 640x480 with 1 Axes>"
      ]
     },
     "metadata": {},
     "output_type": "display_data"
    },
    {
     "name": "stdout",
     "output_type": "stream",
     "text": [
      "<======Region======>\n"
     ]
    },
    {
     "data": {
      "image/png": "[encoded data removed]",
      "text/plain": [
       "<Figure size 640x480 with 1 Axes>"
      ]
     },
     "metadata": {},
     "output_type": "display_data"
    },
    {
     "name": "stdout",
     "output_type": "stream",
     "text": [
      "<======Category======>\n"
     ]
    },
    {
     "data": {
      "image/png": "[encoded data removed]",
      "text/plain": [
       "<Figure size 640x480 with 1 Axes>"
      ]
     },
     "metadata": {},
     "output_type": "display_data"
    },
    {
     "name": "stdout",
     "output_type": "stream",
     "text": [
      "<======Payment Mode======>\n"
     ]
    },
    {
     "data": {
      "image/png": "[encoded data removed]",
      "text/plain": [
       "<Figure size 640x480 with 1 Axes>"
      ]
     },
     "metadata": {},
     "output_type": "display_data"
    },
    {
     "name": "stdout",
     "output_type": "stream",
     "text": [
      "<======Order Quarter======>\n"
     ]
    },
    {
     "data": {
      "image/png": "[encoded data removed]",
      "text/plain": [
       "<Figure size 640x480 with 1 Axes>"
      ]
     },
     "metadata": {},
     "output_type": "display_data"
    }
   ],
   "source": [
    "cont_cl = df[['Segment',\"Ship Mode\",'Region',\"Category\",\"Payment Mode\",\"Order Quarter\"]]\n",
    "for i in cont_cl:\n",
    "    print(f'<======{i}======>')\n",
    "    sns.countplot(x=df[i])\n",
    "    plt.show()"
   ]
  },
  {
   "cell_type": "markdown",
   "id": "d32e51e6",
   "metadata": {},
   "source": [
    "# Conclusion"
   ]
  },
  {
   "cell_type": "code",
   "execution_count": null,
   "id": "a1dd33a7",
   "metadata": {},
   "outputs": [],
   "source": []
  },
  {
   "cell_type": "markdown",
   "id": "5b578c5a",
   "metadata": {},
   "source": [
    "# Continous Columns"
   ]
  },
  {
   "cell_type": "code",
   "execution_count": 235,
   "id": "efdc0d08",
   "metadata": {
    "scrolled": true
   },
   "outputs": [
    {
     "name": "stdout",
     "output_type": "stream",
     "text": [
      "<======Row ID+O6G3A1:R6======>\n",
      "count    5901.000000\n",
      "mean     5022.422471\n",
      "std      2877.977184\n",
      "min         1.000000\n",
      "25%      2486.000000\n",
      "50%      5091.000000\n",
      "75%      7456.000000\n",
      "max      9994.000000\n",
      "Name: Row ID+O6G3A1:R6, dtype: float64\n",
      "<======Sales======>\n",
      "count    5901.000000\n",
      "mean      265.345589\n",
      "std       474.260645\n",
      "min         0.836000\n",
      "25%        71.976000\n",
      "50%       128.648000\n",
      "75%       265.170000\n",
      "max      9099.930000\n",
      "Name: Sales, dtype: float64\n",
      "<======Quantity======>\n",
      "count    5901.000000\n",
      "mean        3.781901\n",
      "std         2.212917\n",
      "min         1.000000\n",
      "25%         2.000000\n",
      "50%         3.000000\n",
      "75%         5.000000\n",
      "max        14.000000\n",
      "Name: Quantity, dtype: float64\n",
      "<======Profit======>\n",
      "count    5901.000000\n",
      "mean       29.700408\n",
      "std       259.589138\n",
      "min     -6599.978000\n",
      "25%         1.795500\n",
      "50%         8.502500\n",
      "75%        28.615000\n",
      "max      8399.976000\n",
      "Name: Profit, dtype: float64\n",
      "<======Order Year======>\n",
      "count    5901.000000\n",
      "mean     2019.561430\n",
      "std         0.496254\n",
      "min      2019.000000\n",
      "25%      2019.000000\n",
      "50%      2020.000000\n",
      "75%      2020.000000\n",
      "max      2020.000000\n",
      "Name: Order Year, dtype: float64\n"
     ]
    }
   ],
   "source": [
    "con_cl = df.select_dtypes(include=[\"int\", \"float64\"])\n",
    "for h in con_cl.columns:\n",
    "    print(f\"<======{h}======>\")\n",
    "    print(df[h].describe())\n"
   ]
  },
  {
   "cell_type": "code",
   "execution_count": 238,
   "id": "3560d142",
   "metadata": {
    "scrolled": true
   },
   "outputs": [
    {
     "name": "stdout",
     "output_type": "stream",
     "text": [
      "<=======Sales=======>\n"
     ]
    },
    {
     "data": {
      "image/png": "[encoded data removed]",
      "text/plain": [
       "<Figure size 500x500 with 1 Axes>"
      ]
     },
     "metadata": {},
     "output_type": "display_data"
    },
    {
     "name": "stdout",
     "output_type": "stream",
     "text": [
      "<=======Quantity=======>\n"
     ]
    },
    {
     "data": {
      "image/png": "[encoded data removed]",
      "text/plain": [
       "<Figure size 500x500 with 1 Axes>"
      ]
     },
     "metadata": {},
     "output_type": "display_data"
    },
    {
     "name": "stdout",
     "output_type": "stream",
     "text": [
      "<=======Profit=======>\n"
     ]
    },
    {
     "data": {
      "image/png": "[encoded data removed]",
      "text/plain": [
       "<Figure size 500x500 with 1 Axes>"
      ]
     },
     "metadata": {},
     "output_type": "display_data"
    },
    {
     "name": "stdout",
     "output_type": "stream",
     "text": [
      "<=======Order Year=======>\n"
     ]
    },
    {
     "data": {
      "image/png": "[encoded data removed]",
      "text/plain": [
       "<Figure size 500x500 with 1 Axes>"
      ]
     },
     "metadata": {},
     "output_type": "display_data"
    }
   ],
   "source": [
    "con_col = [\"Sales\", \"Quantity\", \"Profit\", \"Order Year\"]\n",
    "\n",
    "for k in con_col:\n",
    "    print(f\"<======={k}=======>\")\n",
    "    sns.displot(df[k],kde=True)\n",
    "    plt.show()\n"
   ]
  },
  {
   "cell_type": "code",
   "execution_count": 242,
   "id": "2ad6b021",
   "metadata": {},
   "outputs": [
    {
     "data": {
      "text/plain": [
       "Row ID+O6G3A1:R6   -0.022714\n",
       "Sales               5.949068\n",
       "Quantity            1.216848\n",
       "Profit              8.433694\n",
       "Order Year         -0.247660\n",
       "dtype: float64"
      ]
     },
     "execution_count": 242,
     "metadata": {},
     "output_type": "execute_result"
    }
   ],
   "source": [
    "con_cl = df.select_dtypes(include=[\"int\", \"float64\"])\n",
    "con_cl.skew()"
   ]
  },
  {
   "cell_type": "code",
   "execution_count": 243,
   "id": "b42c3248",
   "metadata": {},
   "outputs": [
    {
     "name": "stdout",
     "output_type": "stream",
     "text": [
      "<=====Row ID+O6G3A1:R6=====>\n"
     ]
    },
    {
     "data": {
      "image/png": "[encoded data removed]",
      "text/plain": [
       "<Figure size 640x480 with 1 Axes>"
      ]
     },
     "metadata": {},
     "output_type": "display_data"
    },
    {
     "name": "stdout",
     "output_type": "stream",
     "text": [
      "<=====Sales=====>\n"
     ]
    },
    {
     "data": {
      "image/png": "[encoded data removed]",
      "text/plain": [
       "<Figure size 640x480 with 1 Axes>"
      ]
     },
     "metadata": {},
     "output_type": "display_data"
    },
    {
     "name": "stdout",
     "output_type": "stream",
     "text": [
      "<=====Quantity=====>\n"
     ]
    },
    {
     "data": {
      "image/png": "[encoded data removed]",
      "text/plain": [
       "<Figure size 640x480 with 1 Axes>"
      ]
     },
     "metadata": {},
     "output_type": "display_data"
    },
    {
     "name": "stdout",
     "output_type": "stream",
     "text": [
      "<=====Profit=====>\n"
     ]
    },
    {
     "data": {
      "image/png": "[encoded data removed]",
      "text/plain": [
       "<Figure size 640x480 with 1 Axes>"
      ]
     },
     "metadata": {},
     "output_type": "display_data"
    },
    {
     "name": "stdout",
     "output_type": "stream",
     "text": [
      "<=====Order Year=====>\n"
     ]
    },
    {
     "data": {
      "image/png": "[encoded data removed]",
      "text/plain": [
       "<Figure size 640x480 with 1 Axes>"
      ]
     },
     "metadata": {},
     "output_type": "display_data"
    }
   ],
   "source": [
    "con_cl = df.select_dtypes(include=[\"int\", \"float64\"])\n",
    "for i in con_cl:\n",
    "    print(f\"<====={i}=====>\")\n",
    "    sns.boxplot(df[i])\n",
    "    plt.show()"
   ]
  },
  {
   "cell_type": "code",
   "execution_count": 239,
   "id": "aefad52c",
   "metadata": {},
   "outputs": [
    {
     "data": {
      "text/plain": [
       "Index(['Row ID+O6G3A1:R6', 'Order ID', 'Order Date', 'Ship Date', 'Ship Mode',\n",
       "       'Customer ID', 'Customer Name', 'Segment', 'Country', 'City', 'State',\n",
       "       'Region', 'Product ID', 'Category', 'Sub-Category', 'Product Name',\n",
       "       'Sales', 'Quantity', 'Profit', 'Payment Mode', 'Order Month',\n",
       "       'Order Quarter', 'Order Year'],\n",
       "      dtype='object')"
      ]
     },
     "execution_count": 239,
     "metadata": {},
     "output_type": "execute_result"
    }
   ],
   "source": [
    "df.columns"
   ]
  },
  {
   "cell_type": "markdown",
   "id": "56d45583",
   "metadata": {},
   "source": [
    "# Baiveriate Analysis"
   ]
  },
  {
   "cell_type": "code",
   "execution_count": 241,
   "id": "05def4c8",
   "metadata": {},
   "outputs": [
    {
     "data": {
      "text/plain": [
       "Segment\n",
       "Consumer       2997\n",
       "Corporate      1774\n",
       "Home Office    1130\n",
       "Name: Sales, dtype: int64"
      ]
     },
     "execution_count": 241,
     "metadata": {},
     "output_type": "execute_result"
    }
   ],
   "source": [
    "col =  df.groupby(\"Segment\")[\"Sales\"].count()"
   ]
  },
  {
   "cell_type": "code",
   "execution_count": 20,
   "id": "87fc2da7",
   "metadata": {},
   "outputs": [
    {
     "data": {
      "text/html": [
       "<div>\n",
       "<style scoped>\n",
       "    .dataframe tbody tr th:only-of-type {\n",
       "        vertical-align: middle;\n",
       "    }\n",
       "\n",
       "    .dataframe tbody tr th {\n",
       "        vertical-align: top;\n",
       "    }\n",
       "\n",
       "    .dataframe thead th {\n",
       "        text-align: right;\n",
       "    }\n",
       "</style>\n",
       "<table border=\"1\" class=\"dataframe\">\n",
       "  <thead>\n",
       "    <tr style=\"text-align: right;\">\n",
       "      <th></th>\n",
       "      <th>Row ID+O6G3A1:R6</th>\n",
       "      <th>Order ID</th>\n",
       "      <th>Order Date</th>\n",
       "      <th>Ship Date</th>\n",
       "      <th>Ship Mode</th>\n",
       "      <th>Customer ID</th>\n",
       "      <th>Customer Name</th>\n",
       "      <th>Segment</th>\n",
       "      <th>Country</th>\n",
       "      <th>City</th>\n",
       "      <th>...</th>\n",
       "      <th>Sub-Category</th>\n",
       "      <th>Product Name</th>\n",
       "      <th>Sales</th>\n",
       "      <th>Quantity</th>\n",
       "      <th>Profit</th>\n",
       "      <th>Payment Mode</th>\n",
       "      <th>Order Month</th>\n",
       "      <th>Order Quarter</th>\n",
       "      <th>Order Year</th>\n",
       "      <th>Delivery Time</th>\n",
       "    </tr>\n",
       "  </thead>\n",
       "  <tbody>\n",
       "    <tr>\n",
       "      <th>0</th>\n",
       "      <td>4918</td>\n",
       "      <td>CA-2019-160304</td>\n",
       "      <td>2019-01-01</td>\n",
       "      <td>2019-01-07</td>\n",
       "      <td>Standard Class</td>\n",
       "      <td>BM-11575</td>\n",
       "      <td>Brendan Murry</td>\n",
       "      <td>Corporate</td>\n",
       "      <td>United States</td>\n",
       "      <td>Gaithersburg</td>\n",
       "      <td>...</td>\n",
       "      <td>Bookcases</td>\n",
       "      <td>Bush Westfield Collection Bookcases, Medium Ch...</td>\n",
       "      <td>73.94</td>\n",
       "      <td>1</td>\n",
       "      <td>28.2668</td>\n",
       "      <td>Online</td>\n",
       "      <td>January</td>\n",
       "      <td>Qtr1</td>\n",
       "      <td>2019</td>\n",
       "      <td>6</td>\n",
       "    </tr>\n",
       "    <tr>\n",
       "      <th>1</th>\n",
       "      <td>4919</td>\n",
       "      <td>CA-2019-160304</td>\n",
       "      <td>2019-01-02</td>\n",
       "      <td>2019-01-07</td>\n",
       "      <td>Standard Class</td>\n",
       "      <td>BM-11575</td>\n",
       "      <td>Brendan Murry</td>\n",
       "      <td>Corporate</td>\n",
       "      <td>United States</td>\n",
       "      <td>Gaithersburg</td>\n",
       "      <td>...</td>\n",
       "      <td>Bookcases</td>\n",
       "      <td>Bush Westfield Collection Bookcases, Medium Ch...</td>\n",
       "      <td>173.94</td>\n",
       "      <td>3</td>\n",
       "      <td>38.2668</td>\n",
       "      <td>Online</td>\n",
       "      <td>February</td>\n",
       "      <td>Qtr1</td>\n",
       "      <td>2019</td>\n",
       "      <td>5</td>\n",
       "    </tr>\n",
       "    <tr>\n",
       "      <th>2</th>\n",
       "      <td>4920</td>\n",
       "      <td>CA-2019-160304</td>\n",
       "      <td>2019-01-02</td>\n",
       "      <td>2019-01-07</td>\n",
       "      <td>Standard Class</td>\n",
       "      <td>BM-11575</td>\n",
       "      <td>Brendan Murry</td>\n",
       "      <td>Corporate</td>\n",
       "      <td>United States</td>\n",
       "      <td>Gaithersburg</td>\n",
       "      <td>...</td>\n",
       "      <td>Phones</td>\n",
       "      <td>GE 30522EE2</td>\n",
       "      <td>231.98</td>\n",
       "      <td>2</td>\n",
       "      <td>67.2742</td>\n",
       "      <td>Cards</td>\n",
       "      <td>February</td>\n",
       "      <td>Qtr1</td>\n",
       "      <td>2019</td>\n",
       "      <td>5</td>\n",
       "    </tr>\n",
       "    <tr>\n",
       "      <th>3</th>\n",
       "      <td>3074</td>\n",
       "      <td>CA-2019-125206</td>\n",
       "      <td>2019-01-03</td>\n",
       "      <td>2019-01-05</td>\n",
       "      <td>First Class</td>\n",
       "      <td>LR-16915</td>\n",
       "      <td>Lena Radford</td>\n",
       "      <td>Consumer</td>\n",
       "      <td>United States</td>\n",
       "      <td>Los Angeles</td>\n",
       "      <td>...</td>\n",
       "      <td>Storage</td>\n",
       "      <td>Recycled Steel Personal File for Hanging File ...</td>\n",
       "      <td>114.46</td>\n",
       "      <td>2</td>\n",
       "      <td>28.6150</td>\n",
       "      <td>Online</td>\n",
       "      <td>March</td>\n",
       "      <td>Qtr1</td>\n",
       "      <td>2019</td>\n",
       "      <td>2</td>\n",
       "    </tr>\n",
       "    <tr>\n",
       "      <th>4</th>\n",
       "      <td>8604</td>\n",
       "      <td>US-2019-116365</td>\n",
       "      <td>2019-01-03</td>\n",
       "      <td>2019-01-08</td>\n",
       "      <td>Standard Class</td>\n",
       "      <td>CA-12310</td>\n",
       "      <td>Christine Abelman</td>\n",
       "      <td>Corporate</td>\n",
       "      <td>United States</td>\n",
       "      <td>San Antonio</td>\n",
       "      <td>...</td>\n",
       "      <td>Accessories</td>\n",
       "      <td>Imation Clip USB flash drive - 8 GB</td>\n",
       "      <td>30.08</td>\n",
       "      <td>2</td>\n",
       "      <td>-5.2640</td>\n",
       "      <td>Online</td>\n",
       "      <td>March</td>\n",
       "      <td>Qtr1</td>\n",
       "      <td>2019</td>\n",
       "      <td>5</td>\n",
       "    </tr>\n",
       "  </tbody>\n",
       "</table>\n",
       "<p>5 rows × 24 columns</p>\n",
       "</div>"
      ],
      "text/plain": [
       "   Row ID+O6G3A1:R6        Order ID Order Date  Ship Date       Ship Mode  \\\n",
       "0              4918  CA-2019-160304 2019-01-01 2019-01-07  Standard Class   \n",
       "1              4919  CA-2019-160304 2019-01-02 2019-01-07  Standard Class   \n",
       "2              4920  CA-2019-160304 2019-01-02 2019-01-07  Standard Class   \n",
       "3              3074  CA-2019-125206 2019-01-03 2019-01-05     First Class   \n",
       "4              8604  US-2019-116365 2019-01-03 2019-01-08  Standard Class   \n",
       "\n",
       "  Customer ID      Customer Name    Segment        Country          City  ...  \\\n",
       "0    BM-11575      Brendan Murry  Corporate  United States  Gaithersburg  ...   \n",
       "1    BM-11575      Brendan Murry  Corporate  United States  Gaithersburg  ...   \n",
       "2    BM-11575      Brendan Murry  Corporate  United States  Gaithersburg  ...   \n",
       "3    LR-16915       Lena Radford   Consumer  United States   Los Angeles  ...   \n",
       "4    CA-12310  Christine Abelman  Corporate  United States   San Antonio  ...   \n",
       "\n",
       "  Sub-Category                                       Product Name   Sales  \\\n",
       "0    Bookcases  Bush Westfield Collection Bookcases, Medium Ch...   73.94   \n",
       "1    Bookcases  Bush Westfield Collection Bookcases, Medium Ch...  173.94   \n",
       "2       Phones                                        GE 30522EE2  231.98   \n",
       "3      Storage  Recycled Steel Personal File for Hanging File ...  114.46   \n",
       "4  Accessories                Imation Clip USB flash drive - 8 GB   30.08   \n",
       "\n",
       "  Quantity   Profit Payment Mode  Order Month  Order Quarter  Order Year  \\\n",
       "0        1  28.2668       Online      January           Qtr1        2019   \n",
       "1        3  38.2668       Online     February           Qtr1        2019   \n",
       "2        2  67.2742        Cards     February           Qtr1        2019   \n",
       "3        2  28.6150       Online        March           Qtr1        2019   \n",
       "4        2  -5.2640       Online        March           Qtr1        2019   \n",
       "\n",
       "  Delivery Time  \n",
       "0             6  \n",
       "1             5  \n",
       "2             5  \n",
       "3             2  \n",
       "4             5  \n",
       "\n",
       "[5 rows x 24 columns]"
      ]
     },
     "execution_count": 20,
     "metadata": {},
     "output_type": "execute_result"
    }
   ],
   "source": [
    "df.head()"
   ]
  },
  {
   "cell_type": "code",
   "execution_count": 19,
   "id": "c251d527",
   "metadata": {},
   "outputs": [],
   "source": [
    "df.to_csv(\"Super_Store_Analysis.csv\",index=False)"
   ]
  },
  {
   "cell_type": "code",
   "execution_count": null,
   "id": "b54e63d7",
   "metadata": {},
   "outputs": [],
   "source": []
  }
 ],
 "metadata": {
  "kernelspec": {
   "display_name": "Python 3 (ipykernel)",
   "language": "python",
   "name": "python3"
  },
  "language_info": {
   "codemirror_mode": {
    "name": "ipython",
    "version": 3
   },
   "file_extension": ".py",
   "mimetype": "text/x-python",
   "name": "python",
   "nbconvert_exporter": "python",
   "pygments_lexer": "ipython3",
   "version": "3.11.4"
  }
 },
 "nbformat": 4,
 "nbformat_minor": 5
}
